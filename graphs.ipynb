{
 "cells": [
  {
   "cell_type": "code",
   "execution_count": 1,
   "metadata": {},
   "outputs": [],
   "source": [
    "import plotly.graph_objects as go\n",
    "\n",
    "from func.prepare_data import prepare_data\n",
    "from func.graph import graph\n",
    "from func.cross_points_f import cross_points_f\n",
    "from func.cross_points_mx_w import cross_points_mx_w"
   ]
  },
  {
   "attachments": {},
   "cell_type": "markdown",
   "metadata": {},
   "source": [
    "# Подготовка"
   ]
  },
  {
   "cell_type": "code",
   "execution_count": 2,
   "metadata": {},
   "outputs": [],
   "source": [
    "mx, fx, w, p, mx_m, fx_m, w_m, p_m, df, n_number, a_number = prepare_data()"
   ]
  },
  {
   "attachments": {},
   "cell_type": "markdown",
   "metadata": {},
   "source": [
    "# Построение графиков"
   ]
  },
  {
   "attachments": {},
   "cell_type": "markdown",
   "metadata": {},
   "source": [
    "## Общие графики"
   ]
  },
  {
   "attachments": {},
   "cell_type": "markdown",
   "metadata": {},
   "source": [
    "### Fx"
   ]
  },
  {
   "cell_type": "code",
   "execution_count": 7,
   "metadata": {},
   "outputs": [],
   "source": [
    "Fx = graph(go.Figure(), fx_m, fx, df, a_number, n_number, 'Fx, Н')\n",
    "\n",
    "f_1 = 35\n",
    "n_cross_1 = cross_points_f(f_1, a_number, n_number, fx_m, df)\n",
    "Fx.cross_line(n_cross_1,  [f_1]*len(n_cross_1), f_1)\n",
    "Fx.basic_line(n_cross_1, list(range(0, round(max(df['a, град']))+1, 1)), f_1)\n",
    "# Fx.annotation(n_cross_1, list(range(0, round(max(df['a, град']))+1, 1)), f_1)\n",
    "Fx.horizontal_cross_palne(f_1)\n",
    "\n",
    "f_2 = 20\n",
    "n_cross_2 = cross_points_f(f_2, a_number, n_number, fx_m, df)\n",
    "Fx.cross_line(n_cross_2,  [f_2]*len(n_cross_1), f_2, 'white')\n",
    "Fx.horizontal_cross_palne(f_2)\n",
    "\n",
    "Fx.basic_plot([[0,'rgb(255, 0, 0)'], [1, 'rgb(255, 0, 0)']])\n",
    "Fx.return_fig()"
   ]
  },
  {
   "attachments": {},
   "cell_type": "markdown",
   "metadata": {},
   "source": [
    "### Mx"
   ]
  },
  {
   "cell_type": "code",
   "execution_count": 8,
   "metadata": {},
   "outputs": [],
   "source": [
    "Mx = graph(go.Figure(), mx_m, mx, df, a_number, n_number, 'Mx, Н*м')\n",
    "\n",
    "Mx.cross_line(n_cross_1,  cross_points_mx_w(n_cross_1, a_number, n_number, mx_m, df), f_1)\n",
    "\n",
    "Mx.cross_line(n_cross_2,  cross_points_mx_w(n_cross_2, a_number, n_number, mx_m, df), f_2, 'white')\n",
    "\n",
    "Mx.basic_plot([[0,'rgb(255, 165, 0)'], [1, 'rgb(255, 165, 0)']])\n",
    "Mx.return_fig()"
   ]
  },
  {
   "attachments": {},
   "cell_type": "markdown",
   "metadata": {},
   "source": [
    "### W"
   ]
  },
  {
   "cell_type": "code",
   "execution_count": 9,
   "metadata": {},
   "outputs": [],
   "source": [
    "W = graph(go.Figure(), w_m, w, df, a_number, n_number, 'Wв, Вт')\n",
    "\n",
    "W.cross_line(n_cross_1,  cross_points_mx_w(n_cross_1, a_number, n_number, w_m, df), f_1)\n",
    "W.cross_line(n_cross_2,  cross_points_mx_w(n_cross_2, a_number, n_number, w_m, df), f_2, 'white')\n",
    "\n",
    "W.basic_plot([[0,'rgb(66, 170, 255)'], [1, 'rgb(66, 170, 255)']])\n",
    "W.return_fig()"
   ]
  },
  {
   "attachments": {},
   "cell_type": "markdown",
   "metadata": {},
   "source": [
    "### P"
   ]
  },
  {
   "cell_type": "code",
   "execution_count": 10,
   "metadata": {},
   "outputs": [],
   "source": [
    "P = graph(go.Figure(), p_m, p, df, a_number, n_number, 'P, Н/Вт')\n",
    "\n",
    "P.cross_line(n_cross_1,  cross_points_mx_w(n_cross_1, a_number, n_number, p_m, df), f_1)\n",
    "P.cross_line(n_cross_2,  cross_points_mx_w(n_cross_2, a_number, n_number, p_m, df), f_2, 'white')\n",
    "\n",
    "P.basic_plot([[0,'rgb(144, 238, 144)'], [1, 'rgb(144, 238, 144)']])\n",
    "P.return_fig()"
   ]
  },
  {
   "cell_type": "code",
   "execution_count": null,
   "metadata": {},
   "outputs": [],
   "source": []
  }
 ],
 "metadata": {
  "kernelspec": {
   "display_name": ".venv",
   "language": "python",
   "name": "python3"
  },
  "language_info": {
   "codemirror_mode": {
    "name": "ipython",
    "version": 3
   },
   "file_extension": ".py",
   "mimetype": "text/x-python",
   "name": "python",
   "nbconvert_exporter": "python",
   "pygments_lexer": "ipython3",
   "version": "3.10.6"
  },
  "orig_nbformat": 4,
  "vscode": {
   "interpreter": {
    "hash": "0d58ac2abcadaa1598cb900b832b9a8f6ce454a433903b3ea5742177d9378b14"
   }
  }
 },
 "nbformat": 4,
 "nbformat_minor": 2
}
